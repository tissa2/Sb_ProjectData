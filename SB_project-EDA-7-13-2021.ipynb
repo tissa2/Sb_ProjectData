{
 "cells": [
  {
   "cell_type": "code",
   "execution_count": 1,
   "metadata": {},
   "outputs": [],
   "source": [
    "import requests\n",
    "from bs4 import BeautifulSoup\n",
    "import pandas as pd\n",
    "import numpy as np\n",
    "import matplotlib.pyplot as plt\n",
    "import seaborn as sns\n",
    "import os\n",
    "%matplotlib inline"
   ]
  },
  {
   "cell_type": "markdown",
   "metadata": {},
   "source": [
    "# DATA"
   ]
  },
  {
   "cell_type": "code",
   "execution_count": 2,
   "metadata": {},
   "outputs": [],
   "source": [
    "news_df = pd.read_excel('goldnews-investingdotcom.xlsx',parse_dates=['Date'],index_col='Date')"
   ]
  },
  {
   "cell_type": "code",
   "execution_count": 3,
   "metadata": {},
   "outputs": [
    {
     "data": {
      "text/html": [
       "<div>\n",
       "<style scoped>\n",
       "    .dataframe tbody tr th:only-of-type {\n",
       "        vertical-align: middle;\n",
       "    }\n",
       "\n",
       "    .dataframe tbody tr th {\n",
       "        vertical-align: top;\n",
       "    }\n",
       "\n",
       "    .dataframe thead th {\n",
       "        text-align: right;\n",
       "    }\n",
       "</style>\n",
       "<table border=\"1\" class=\"dataframe\">\n",
       "  <thead>\n",
       "    <tr style=\"text-align: right;\">\n",
       "      <th></th>\n",
       "      <th>Title1</th>\n",
       "      <th>Reference1</th>\n",
       "      <th>Title2</th>\n",
       "      <th>Reference2</th>\n",
       "      <th>Title3</th>\n",
       "      <th>Reference3</th>\n",
       "      <th>Unnamed: 7</th>\n",
       "      <th>Unnamed: 8</th>\n",
       "    </tr>\n",
       "    <tr>\n",
       "      <th>Date</th>\n",
       "      <th></th>\n",
       "      <th></th>\n",
       "      <th></th>\n",
       "      <th></th>\n",
       "      <th></th>\n",
       "      <th></th>\n",
       "      <th></th>\n",
       "      <th></th>\n",
       "    </tr>\n",
       "  </thead>\n",
       "  <tbody>\n",
       "    <tr>\n",
       "      <th>2021-07-03</th>\n",
       "      <td>Baby boomers face financial distress and age d...</td>\n",
       "      <td>https://www.marketwatch.com/story/baby-boomers...</td>\n",
       "      <td>Gold-Obsessed Young Indians Invest Heavily In ...</td>\n",
       "      <td>https://www.cryptovibes.com/blog/2021/07/03/go...</td>\n",
       "      <td>Gold Struggling On The Floor, Buy The Dip</td>\n",
       "      <td>https://www.cryptovibes.com/blog/2021/07/03/go...</td>\n",
       "      <td>NaN</td>\n",
       "      <td>NaN</td>\n",
       "    </tr>\n",
       "    <tr>\n",
       "      <th>2021-07-02</th>\n",
       "      <td>NV Gold President/CEO resigns</td>\n",
       "      <td>https://seekingalpha.com/news/3712401-nv-gold-...</td>\n",
       "      <td>Price of Gold Fundamental Daily Forecast – NFP...</td>\n",
       "      <td>https://www.fxempire.com/forecasts/article/pri...</td>\n",
       "      <td>Gold ticks up, and the dollar index slides in ...</td>\n",
       "      <td>https://seekingalpha.com/news/3712397-gold-tic...</td>\n",
       "      <td>NaN</td>\n",
       "      <td>NaN</td>\n",
       "    </tr>\n",
       "    <tr>\n",
       "      <th>2021-07-01</th>\n",
       "      <td>Price of Gold Fundamental Daily Forecast – Mor...</td>\n",
       "      <td>https://www.fxempire.com/forecasts/article/pri...</td>\n",
       "      <td>Daily Gold News: Thursday, July 1 – Gold Getti...</td>\n",
       "      <td>https://www.fxempire.com/forecasts/article/dai...</td>\n",
       "      <td>Gold logs back-to-back gains to start July, se...</td>\n",
       "      <td>https://www.marketwatch.com/story/gold-aims-fo...</td>\n",
       "      <td>NaN</td>\n",
       "      <td>NaN</td>\n",
       "    </tr>\n",
       "    <tr>\n",
       "      <th>2021-06-30</th>\n",
       "      <td>The Last Trading Day of the First Half of 2021...</td>\n",
       "      <td>https://www.fxempire.com/forecasts/article/the...</td>\n",
       "      <td>Global shares fall on pandemic fears ahead of ...</td>\n",
       "      <td>https://www.investing.com/news/economy/asian-s...</td>\n",
       "      <td>Gold Records Worst Monthly Loss in Five Years ...</td>\n",
       "      <td>https://www.investing.com/news/commodities-new...</td>\n",
       "      <td>NaN</td>\n",
       "      <td>NaN</td>\n",
       "    </tr>\n",
       "    <tr>\n",
       "      <th>2021-06-29</th>\n",
       "      <td>Gold Heads for Worst Month Since 2016 on Dolla...</td>\n",
       "      <td>https://www.investing.com/news/commodities-new...</td>\n",
       "      <td>Global shares edge lower on new COVID-19 outbr...</td>\n",
       "      <td>https://www.investing.com/news/economy/asian-s...</td>\n",
       "      <td>Gold Drops as the U.S. Central Bank’s Vaguenes...</td>\n",
       "      <td>https://www.fxempire.com/forecasts/article/gol...</td>\n",
       "      <td>NaN</td>\n",
       "      <td>NaN</td>\n",
       "    </tr>\n",
       "  </tbody>\n",
       "</table>\n",
       "</div>"
      ],
      "text/plain": [
       "                                                       Title1  \\\n",
       "Date                                                            \n",
       "2021-07-03  Baby boomers face financial distress and age d...   \n",
       "2021-07-02                      NV Gold President/CEO resigns   \n",
       "2021-07-01  Price of Gold Fundamental Daily Forecast – Mor...   \n",
       "2021-06-30  The Last Trading Day of the First Half of 2021...   \n",
       "2021-06-29  Gold Heads for Worst Month Since 2016 on Dolla...   \n",
       "\n",
       "                                                   Reference1  \\\n",
       "Date                                                            \n",
       "2021-07-03  https://www.marketwatch.com/story/baby-boomers...   \n",
       "2021-07-02  https://seekingalpha.com/news/3712401-nv-gold-...   \n",
       "2021-07-01  https://www.fxempire.com/forecasts/article/pri...   \n",
       "2021-06-30  https://www.fxempire.com/forecasts/article/the...   \n",
       "2021-06-29  https://www.investing.com/news/commodities-new...   \n",
       "\n",
       "                                                       Title2  \\\n",
       "Date                                                            \n",
       "2021-07-03  Gold-Obsessed Young Indians Invest Heavily In ...   \n",
       "2021-07-02  Price of Gold Fundamental Daily Forecast – NFP...   \n",
       "2021-07-01  Daily Gold News: Thursday, July 1 – Gold Getti...   \n",
       "2021-06-30  Global shares fall on pandemic fears ahead of ...   \n",
       "2021-06-29  Global shares edge lower on new COVID-19 outbr...   \n",
       "\n",
       "                                                   Reference2  \\\n",
       "Date                                                            \n",
       "2021-07-03  https://www.cryptovibes.com/blog/2021/07/03/go...   \n",
       "2021-07-02  https://www.fxempire.com/forecasts/article/pri...   \n",
       "2021-07-01  https://www.fxempire.com/forecasts/article/dai...   \n",
       "2021-06-30  https://www.investing.com/news/economy/asian-s...   \n",
       "2021-06-29  https://www.investing.com/news/economy/asian-s...   \n",
       "\n",
       "                                                       Title3  \\\n",
       "Date                                                            \n",
       "2021-07-03          Gold Struggling On The Floor, Buy The Dip   \n",
       "2021-07-02  Gold ticks up, and the dollar index slides in ...   \n",
       "2021-07-01  Gold logs back-to-back gains to start July, se...   \n",
       "2021-06-30  Gold Records Worst Monthly Loss in Five Years ...   \n",
       "2021-06-29  Gold Drops as the U.S. Central Bank’s Vaguenes...   \n",
       "\n",
       "                                                   Reference3 Unnamed: 7  \\\n",
       "Date                                                                       \n",
       "2021-07-03  https://www.cryptovibes.com/blog/2021/07/03/go...        NaN   \n",
       "2021-07-02  https://seekingalpha.com/news/3712397-gold-tic...        NaN   \n",
       "2021-07-01  https://www.marketwatch.com/story/gold-aims-fo...        NaN   \n",
       "2021-06-30  https://www.investing.com/news/commodities-new...        NaN   \n",
       "2021-06-29  https://www.fxempire.com/forecasts/article/gol...        NaN   \n",
       "\n",
       "           Unnamed: 8  \n",
       "Date                   \n",
       "2021-07-03        NaN  \n",
       "2021-07-02        NaN  \n",
       "2021-07-01        NaN  \n",
       "2021-06-30        NaN  \n",
       "2021-06-29        NaN  "
      ]
     },
     "execution_count": 3,
     "metadata": {},
     "output_type": "execute_result"
    }
   ],
   "source": [
    "news_df.head()"
   ]
  },
  {
   "cell_type": "code",
   "execution_count": 4,
   "metadata": {},
   "outputs": [
    {
     "data": {
      "text/plain": [
       "Index(['Title1', 'Reference1', 'Title2', 'Reference2', 'Title3', 'Reference3',\n",
       "       'Unnamed: 7', 'Unnamed: 8'],\n",
       "      dtype='object')"
      ]
     },
     "execution_count": 4,
     "metadata": {},
     "output_type": "execute_result"
    }
   ],
   "source": [
    "news_df.columns"
   ]
  },
  {
   "cell_type": "code",
   "execution_count": 5,
   "metadata": {},
   "outputs": [],
   "source": [
    "news_df.drop(['Unnamed: 7', 'Unnamed: 8'],axis=1, inplace=True)"
   ]
  },
  {
   "cell_type": "code",
   "execution_count": 6,
   "metadata": {},
   "outputs": [
    {
     "data": {
      "text/html": [
       "<div>\n",
       "<style scoped>\n",
       "    .dataframe tbody tr th:only-of-type {\n",
       "        vertical-align: middle;\n",
       "    }\n",
       "\n",
       "    .dataframe tbody tr th {\n",
       "        vertical-align: top;\n",
       "    }\n",
       "\n",
       "    .dataframe thead th {\n",
       "        text-align: right;\n",
       "    }\n",
       "</style>\n",
       "<table border=\"1\" class=\"dataframe\">\n",
       "  <thead>\n",
       "    <tr style=\"text-align: right;\">\n",
       "      <th></th>\n",
       "      <th>Title1</th>\n",
       "      <th>Reference1</th>\n",
       "      <th>Title2</th>\n",
       "      <th>Reference2</th>\n",
       "      <th>Title3</th>\n",
       "      <th>Reference3</th>\n",
       "    </tr>\n",
       "    <tr>\n",
       "      <th>Date</th>\n",
       "      <th></th>\n",
       "      <th></th>\n",
       "      <th></th>\n",
       "      <th></th>\n",
       "      <th></th>\n",
       "      <th></th>\n",
       "    </tr>\n",
       "  </thead>\n",
       "  <tbody>\n",
       "    <tr>\n",
       "      <th>2021-07-03</th>\n",
       "      <td>Baby boomers face financial distress and age d...</td>\n",
       "      <td>https://www.marketwatch.com/story/baby-boomers...</td>\n",
       "      <td>Gold-Obsessed Young Indians Invest Heavily In ...</td>\n",
       "      <td>https://www.cryptovibes.com/blog/2021/07/03/go...</td>\n",
       "      <td>Gold Struggling On The Floor, Buy The Dip</td>\n",
       "      <td>https://www.cryptovibes.com/blog/2021/07/03/go...</td>\n",
       "    </tr>\n",
       "    <tr>\n",
       "      <th>2021-07-02</th>\n",
       "      <td>NV Gold President/CEO resigns</td>\n",
       "      <td>https://seekingalpha.com/news/3712401-nv-gold-...</td>\n",
       "      <td>Price of Gold Fundamental Daily Forecast – NFP...</td>\n",
       "      <td>https://www.fxempire.com/forecasts/article/pri...</td>\n",
       "      <td>Gold ticks up, and the dollar index slides in ...</td>\n",
       "      <td>https://seekingalpha.com/news/3712397-gold-tic...</td>\n",
       "    </tr>\n",
       "    <tr>\n",
       "      <th>2021-07-01</th>\n",
       "      <td>Price of Gold Fundamental Daily Forecast – Mor...</td>\n",
       "      <td>https://www.fxempire.com/forecasts/article/pri...</td>\n",
       "      <td>Daily Gold News: Thursday, July 1 – Gold Getti...</td>\n",
       "      <td>https://www.fxempire.com/forecasts/article/dai...</td>\n",
       "      <td>Gold logs back-to-back gains to start July, se...</td>\n",
       "      <td>https://www.marketwatch.com/story/gold-aims-fo...</td>\n",
       "    </tr>\n",
       "    <tr>\n",
       "      <th>2021-06-30</th>\n",
       "      <td>The Last Trading Day of the First Half of 2021...</td>\n",
       "      <td>https://www.fxempire.com/forecasts/article/the...</td>\n",
       "      <td>Global shares fall on pandemic fears ahead of ...</td>\n",
       "      <td>https://www.investing.com/news/economy/asian-s...</td>\n",
       "      <td>Gold Records Worst Monthly Loss in Five Years ...</td>\n",
       "      <td>https://www.investing.com/news/commodities-new...</td>\n",
       "    </tr>\n",
       "    <tr>\n",
       "      <th>2021-06-29</th>\n",
       "      <td>Gold Heads for Worst Month Since 2016 on Dolla...</td>\n",
       "      <td>https://www.investing.com/news/commodities-new...</td>\n",
       "      <td>Global shares edge lower on new COVID-19 outbr...</td>\n",
       "      <td>https://www.investing.com/news/economy/asian-s...</td>\n",
       "      <td>Gold Drops as the U.S. Central Bank’s Vaguenes...</td>\n",
       "      <td>https://www.fxempire.com/forecasts/article/gol...</td>\n",
       "    </tr>\n",
       "  </tbody>\n",
       "</table>\n",
       "</div>"
      ],
      "text/plain": [
       "                                                       Title1  \\\n",
       "Date                                                            \n",
       "2021-07-03  Baby boomers face financial distress and age d...   \n",
       "2021-07-02                      NV Gold President/CEO resigns   \n",
       "2021-07-01  Price of Gold Fundamental Daily Forecast – Mor...   \n",
       "2021-06-30  The Last Trading Day of the First Half of 2021...   \n",
       "2021-06-29  Gold Heads for Worst Month Since 2016 on Dolla...   \n",
       "\n",
       "                                                   Reference1  \\\n",
       "Date                                                            \n",
       "2021-07-03  https://www.marketwatch.com/story/baby-boomers...   \n",
       "2021-07-02  https://seekingalpha.com/news/3712401-nv-gold-...   \n",
       "2021-07-01  https://www.fxempire.com/forecasts/article/pri...   \n",
       "2021-06-30  https://www.fxempire.com/forecasts/article/the...   \n",
       "2021-06-29  https://www.investing.com/news/commodities-new...   \n",
       "\n",
       "                                                       Title2  \\\n",
       "Date                                                            \n",
       "2021-07-03  Gold-Obsessed Young Indians Invest Heavily In ...   \n",
       "2021-07-02  Price of Gold Fundamental Daily Forecast – NFP...   \n",
       "2021-07-01  Daily Gold News: Thursday, July 1 – Gold Getti...   \n",
       "2021-06-30  Global shares fall on pandemic fears ahead of ...   \n",
       "2021-06-29  Global shares edge lower on new COVID-19 outbr...   \n",
       "\n",
       "                                                   Reference2  \\\n",
       "Date                                                            \n",
       "2021-07-03  https://www.cryptovibes.com/blog/2021/07/03/go...   \n",
       "2021-07-02  https://www.fxempire.com/forecasts/article/pri...   \n",
       "2021-07-01  https://www.fxempire.com/forecasts/article/dai...   \n",
       "2021-06-30  https://www.investing.com/news/economy/asian-s...   \n",
       "2021-06-29  https://www.investing.com/news/economy/asian-s...   \n",
       "\n",
       "                                                       Title3  \\\n",
       "Date                                                            \n",
       "2021-07-03          Gold Struggling On The Floor, Buy The Dip   \n",
       "2021-07-02  Gold ticks up, and the dollar index slides in ...   \n",
       "2021-07-01  Gold logs back-to-back gains to start July, se...   \n",
       "2021-06-30  Gold Records Worst Monthly Loss in Five Years ...   \n",
       "2021-06-29  Gold Drops as the U.S. Central Bank’s Vaguenes...   \n",
       "\n",
       "                                                   Reference3  \n",
       "Date                                                           \n",
       "2021-07-03  https://www.cryptovibes.com/blog/2021/07/03/go...  \n",
       "2021-07-02  https://seekingalpha.com/news/3712397-gold-tic...  \n",
       "2021-07-01  https://www.marketwatch.com/story/gold-aims-fo...  \n",
       "2021-06-30  https://www.investing.com/news/commodities-new...  \n",
       "2021-06-29  https://www.fxempire.com/forecasts/article/gol...  "
      ]
     },
     "execution_count": 6,
     "metadata": {},
     "output_type": "execute_result"
    }
   ],
   "source": [
    "news_df.head()"
   ]
  },
  {
   "cell_type": "markdown",
   "metadata": {},
   "source": [
    "# News Title Data"
   ]
  },
  {
   "cell_type": "code",
   "execution_count": 7,
   "metadata": {},
   "outputs": [
    {
     "data": {
      "text/html": [
       "<div>\n",
       "<style scoped>\n",
       "    .dataframe tbody tr th:only-of-type {\n",
       "        vertical-align: middle;\n",
       "    }\n",
       "\n",
       "    .dataframe tbody tr th {\n",
       "        vertical-align: top;\n",
       "    }\n",
       "\n",
       "    .dataframe thead th {\n",
       "        text-align: right;\n",
       "    }\n",
       "</style>\n",
       "<table border=\"1\" class=\"dataframe\">\n",
       "  <thead>\n",
       "    <tr style=\"text-align: right;\">\n",
       "      <th></th>\n",
       "      <th>Title1</th>\n",
       "      <th>Title2</th>\n",
       "      <th>Title3</th>\n",
       "    </tr>\n",
       "    <tr>\n",
       "      <th>Date</th>\n",
       "      <th></th>\n",
       "      <th></th>\n",
       "      <th></th>\n",
       "    </tr>\n",
       "  </thead>\n",
       "  <tbody>\n",
       "    <tr>\n",
       "      <th>2021-06-02</th>\n",
       "      <td>Gold Holds Near Five-Month High as Investors W...</td>\n",
       "      <td>Transitory or Sticky? Gold Investors Ponder th...</td>\n",
       "      <td>Goldman Sachs: Bitcoin Is an Alternative Infla...</td>\n",
       "    </tr>\n",
       "    <tr>\n",
       "      <th>2021-04-30</th>\n",
       "      <td>Shark Tank's Kevin O'Leary Says 'Bitcoin Will ...</td>\n",
       "      <td>Bounce in Gold Complete: $1620s Next?</td>\n",
       "      <td>Gold Pricing Continues to React to Higher Yiel...</td>\n",
       "    </tr>\n",
       "  </tbody>\n",
       "</table>\n",
       "</div>"
      ],
      "text/plain": [
       "                                                       Title1  \\\n",
       "Date                                                            \n",
       "2021-06-02  Gold Holds Near Five-Month High as Investors W...   \n",
       "2021-04-30  Shark Tank's Kevin O'Leary Says 'Bitcoin Will ...   \n",
       "\n",
       "                                                       Title2  \\\n",
       "Date                                                            \n",
       "2021-06-02  Transitory or Sticky? Gold Investors Ponder th...   \n",
       "2021-04-30              Bounce in Gold Complete: $1620s Next?   \n",
       "\n",
       "                                                       Title3  \n",
       "Date                                                           \n",
       "2021-06-02  Goldman Sachs: Bitcoin Is an Alternative Infla...  \n",
       "2021-04-30  Gold Pricing Continues to React to Higher Yiel...  "
      ]
     },
     "execution_count": 7,
     "metadata": {},
     "output_type": "execute_result"
    }
   ],
   "source": [
    "# create a data of only the news titles\n",
    "news_titles_df = news_df[['Title1','Title2','Title3']]\n",
    "news_titles_df.sample(2)"
   ]
  },
  {
   "cell_type": "code",
   "execution_count": 8,
   "metadata": {},
   "outputs": [
    {
     "name": "stderr",
     "output_type": "stream",
     "text": [
      "C:\\Users\\matar\\AppData\\Local\\Continuum\\anaconda3\\lib\\site-packages\\pandas\\core\\frame.py:4153: SettingWithCopyWarning: \n",
      "A value is trying to be set on a copy of a slice from a DataFrame\n",
      "\n",
      "See the caveats in the documentation: https://pandas.pydata.org/pandas-docs/stable/user_guide/indexing.html#returning-a-view-versus-a-copy\n",
      "  downcast=downcast,\n"
     ]
    }
   ],
   "source": [
    "# fill na with an empty string\n",
    "news_titles_df.fillna('', inplace=True)"
   ]
  },
  {
   "cell_type": "code",
   "execution_count": 9,
   "metadata": {},
   "outputs": [
    {
     "name": "stderr",
     "output_type": "stream",
     "text": [
      "C:\\Users\\matar\\AppData\\Local\\Continuum\\anaconda3\\lib\\site-packages\\ipykernel_launcher.py:1: SettingWithCopyWarning: \n",
      "A value is trying to be set on a copy of a slice from a DataFrame.\n",
      "Try using .loc[row_indexer,col_indexer] = value instead\n",
      "\n",
      "See the caveats in the documentation: https://pandas.pydata.org/pandas-docs/stable/user_guide/indexing.html#returning-a-view-versus-a-copy\n",
      "  \"\"\"Entry point for launching an IPython kernel.\n"
     ]
    }
   ],
   "source": [
    "news_titles_df['text'] = news_titles_df[['Title1', 'Title2', 'Title3']].agg('\\n'.join, axis=1)"
   ]
  },
  {
   "cell_type": "code",
   "execution_count": 13,
   "metadata": {},
   "outputs": [
    {
     "name": "stdout",
     "output_type": "stream",
     "text": [
      "Baby boomers face financial distress and age discrimination\n",
      "Gold-Obsessed Young Indians Invest Heavily In Crypto\n",
      "Gold Struggling On The Floor, Buy The Dip\n"
     ]
    }
   ],
   "source": [
    "print(news_titles_df['text'][0])"
   ]
  },
  {
   "cell_type": "markdown",
   "metadata": {},
   "source": [
    "# Text Wrangling & Pre-processing"
   ]
  },
  {
   "cell_type": "code",
   "execution_count": 23,
   "metadata": {},
   "outputs": [],
   "source": [
    "import spacy\n",
    "import pandas as pd\n",
    "import numpy as np\n",
    "import nltk\n",
    "from nltk.tokenize.toktok import ToktokTokenizer\n",
    "import re\n",
    "from bs4 import BeautifulStoneSoup\n",
    "from contractions import CONTRACTION_MAP\n",
    "import unicodedata\n",
    "\n",
    "nlp = spacy.load('en_core_web_sm',parse=True, tag=True, entity= True)\n",
    "#nlp_vec = spacy.load('en_vecs',parse=True, tag=True, entity= True)\n",
    "tokenizer = ToktokTokenizer()\n",
    "stopword_list = nltk.corpus.stopwords.words('english')\n",
    "stopword_list.remove('no')\n",
    "stopword_list.remove('not')"
   ]
  },
  {
   "cell_type": "markdown",
   "metadata": {},
   "source": [
    "# Removing HTML tags"
   ]
  },
  {
   "cell_type": "code",
   "execution_count": 17,
   "metadata": {},
   "outputs": [],
   "source": [
    "def strip_html_tags(text):\n",
    "    soup = BeautifulSoup(text,'html.parser')\n",
    "    stripped_text =  soup.get_text()\n",
    "    return stripped_text"
   ]
  },
  {
   "cell_type": "code",
   "execution_count": 18,
   "metadata": {},
   "outputs": [
    {
     "data": {
      "text/plain": [
       "'Some important text'"
      ]
     },
     "execution_count": 18,
     "metadata": {},
     "output_type": "execute_result"
    }
   ],
   "source": [
    "strip_html_tags('<html><h2>Some important text</h2></html>')"
   ]
  },
  {
   "cell_type": "markdown",
   "metadata": {},
   "source": [
    "# Removing accented characters"
   ]
  },
  {
   "cell_type": "code",
   "execution_count": 21,
   "metadata": {},
   "outputs": [],
   "source": [
    "def remove_accented_chars(text):\n",
    "    text = unicodedata.normalize('NFKD',text).encode('ascii','ignore').decode('utf-8')\n",
    "    \n",
    "    return text"
   ]
  },
  {
   "cell_type": "code",
   "execution_count": 24,
   "metadata": {},
   "outputs": [
    {
     "data": {
      "text/plain": [
       "'Some Accented text'"
      ]
     },
     "execution_count": 24,
     "metadata": {},
     "output_type": "execute_result"
    }
   ],
   "source": [
    "remove_accented_chars('Sómě Áccěntěd těxt')"
   ]
  },
  {
   "cell_type": "markdown",
   "metadata": {},
   "source": [
    "# Expanding Contractions"
   ]
  },
  {
   "cell_type": "code",
   "execution_count": 26,
   "metadata": {},
   "outputs": [],
   "source": [
    "def expand_contractions(text, contraction_mapping=CONTRACTION_MAP):\n",
    "    \n",
    "    contractions_pattern = re.compile('({})'.format('|'.join(contraction_mapping.keys())), \n",
    "                                      flags=re.IGNORECASE|re.DOTALL)\n",
    "    def expand_match(contraction):\n",
    "        match = contraction.group(0)\n",
    "        first_char = match[0]\n",
    "        expanded_contraction = contraction_mapping.get(match)\\\n",
    "                                if contraction_mapping.get(match)\\\n",
    "                                else contraction_mapping.get(match.lower())                       \n",
    "        expanded_contraction = first_char+expanded_contraction[1:]\n",
    "        return expanded_contraction\n",
    "        \n",
    "    expanded_text = contractions_pattern.sub(expand_match, text)\n",
    "    expanded_text = re.sub(\"'\", \"\", expanded_text)\n",
    "    return expanded_text"
   ]
  },
  {
   "cell_type": "code",
   "execution_count": 27,
   "metadata": {},
   "outputs": [
    {
     "data": {
      "text/plain": [
       "'You all cannot expand contractions I would think'"
      ]
     },
     "execution_count": 27,
     "metadata": {},
     "output_type": "execute_result"
    }
   ],
   "source": [
    "expand_contractions(\"Y'all can't expand contractions I'd think\")"
   ]
  },
  {
   "cell_type": "markdown",
   "metadata": {},
   "source": [
    "# Removing Special Characters"
   ]
  },
  {
   "cell_type": "code",
   "execution_count": 29,
   "metadata": {},
   "outputs": [],
   "source": [
    "def remove_special_characters(text, remove_digits=False):\n",
    "    pattern = r'[^a-zA-z0-9\\s]' if not remove_digits else r'[^a-zA-z\\s]'\n",
    "    text = re.sub(pattern, '', text)\n",
    "    return text"
   ]
  },
  {
   "cell_type": "code",
   "execution_count": 30,
   "metadata": {},
   "outputs": [
    {
     "data": {
      "text/plain": [
       "'Well this was fun What do you think '"
      ]
     },
     "execution_count": 30,
     "metadata": {},
     "output_type": "execute_result"
    }
   ],
   "source": [
    "remove_special_characters(\"Well this was fun! What do you think? 123#@!\", \n",
    "                          remove_digits=True)"
   ]
  },
  {
   "cell_type": "markdown",
   "metadata": {},
   "source": [
    "# Stemming"
   ]
  },
  {
   "cell_type": "code",
   "execution_count": 31,
   "metadata": {},
   "outputs": [],
   "source": [
    "def simple_stemmer(text):\n",
    "    ps = nltk.porter.PorterStemmer()\n",
    "    text = ' '.join([ps.stem(word) for word in text.split()])\n",
    "    return text"
   ]
  },
  {
   "cell_type": "code",
   "execution_count": 32,
   "metadata": {},
   "outputs": [
    {
     "data": {
      "text/plain": [
       "'My system keep crash hi crash yesterday, our crash daili'"
      ]
     },
     "execution_count": 32,
     "metadata": {},
     "output_type": "execute_result"
    }
   ],
   "source": [
    "simple_stemmer(\"My system keeps crashing his crashed yesterday, ours crashes daily\")"
   ]
  },
  {
   "cell_type": "markdown",
   "metadata": {},
   "source": [
    "# Lemmatization"
   ]
  },
  {
   "cell_type": "code",
   "execution_count": 33,
   "metadata": {},
   "outputs": [],
   "source": [
    "def lemmatize_text(text):\n",
    "    text = nlp(text)\n",
    "    text = ' '.join([word.lemma_ if word.lemma_ != '-PRON-' else word.text for word in text])\n",
    "    return text"
   ]
  },
  {
   "cell_type": "code",
   "execution_count": 34,
   "metadata": {},
   "outputs": [
    {
     "data": {
      "text/plain": [
       "'My system keep crash ! his crash yesterday , ours crash daily'"
      ]
     },
     "execution_count": 34,
     "metadata": {},
     "output_type": "execute_result"
    }
   ],
   "source": [
    "lemmatize_text(\"My system keeps crashing! his crashed yesterday, ours crashes daily\")"
   ]
  },
  {
   "cell_type": "markdown",
   "metadata": {},
   "source": [
    "# Removing Stopwords"
   ]
  },
  {
   "cell_type": "code",
   "execution_count": 35,
   "metadata": {},
   "outputs": [],
   "source": [
    "def remove_stopwords(text, is_lower_case=False):\n",
    "    tokens = tokenizer.tokenize(text)\n",
    "    tokens = [token.strip() for token in tokens]\n",
    "    if is_lower_case:\n",
    "        filtered_tokens = [token for token in tokens if token not in stopword_list]\n",
    "    else:\n",
    "        filtered_tokens = [token for token in tokens if token.lower() not in stopword_list]\n",
    "    filtered_text = ' '.join(filtered_tokens)    \n",
    "    return filtered_text"
   ]
  },
  {
   "cell_type": "code",
   "execution_count": 36,
   "metadata": {},
   "outputs": [
    {
     "data": {
      "text/plain": [
       "', , stopwords , computer not'"
      ]
     },
     "execution_count": 36,
     "metadata": {},
     "output_type": "execute_result"
    }
   ],
   "source": [
    "remove_stopwords(\"The, and, if are stopwords, computer is not\")"
   ]
  },
  {
   "cell_type": "markdown",
   "metadata": {},
   "source": [
    "# Building a Text Normalizer"
   ]
  },
  {
   "cell_type": "code",
   "execution_count": 37,
   "metadata": {},
   "outputs": [],
   "source": [
    "def normalize_corpus(corpus, html_stripping=True, contraction_expansion=True,\n",
    "                     accented_char_removal=True, text_lower_case=True, \n",
    "                     text_lemmatization=True, special_char_removal=True, \n",
    "                     stopword_removal=True, remove_digits=True):\n",
    "    \n",
    "    normalized_corpus = []\n",
    "    # normalize each document in the corpus\n",
    "    for doc in corpus:\n",
    "        # strip HTML\n",
    "        if html_stripping:\n",
    "            doc = strip_html_tags(doc)\n",
    "        # remove accented characters\n",
    "        if accented_char_removal:\n",
    "            doc = remove_accented_chars(doc)\n",
    "        # expand contractions    \n",
    "        if contraction_expansion:\n",
    "            doc = expand_contractions(doc)\n",
    "        # lowercase the text    \n",
    "        if text_lower_case:\n",
    "            doc = doc.lower()\n",
    "        # remove extra newlines\n",
    "        doc = re.sub(r'[\\r|\\n|\\r\\n]+', ' ',doc)\n",
    "        # lemmatize text\n",
    "        if text_lemmatization:\n",
    "            doc = lemmatize_text(doc)\n",
    "        # remove special characters and\\or digits    \n",
    "        if special_char_removal:\n",
    "            # insert spaces between special characters to isolate them    \n",
    "            special_char_pattern = re.compile(r'([{.(-)!}])')\n",
    "            doc = special_char_pattern.sub(\" \\\\1 \", doc)\n",
    "            doc = remove_special_characters(doc, remove_digits=remove_digits)  \n",
    "        # remove extra whitespace\n",
    "        doc = re.sub(' +', ' ', doc)\n",
    "        # remove stopwords\n",
    "        if stopword_removal:\n",
    "            doc = remove_stopwords(doc, is_lower_case=text_lower_case)\n",
    "            \n",
    "        normalized_corpus.append(doc)\n",
    "        \n",
    "    return normalized_corpus"
   ]
  },
  {
   "cell_type": "code",
   "execution_count": 41,
   "metadata": {},
   "outputs": [
    {
     "name": "stderr",
     "output_type": "stream",
     "text": [
      "C:\\Users\\matar\\AppData\\Local\\Continuum\\anaconda3\\lib\\site-packages\\ipykernel_launcher.py:2: SettingWithCopyWarning: \n",
      "A value is trying to be set on a copy of a slice from a DataFrame.\n",
      "Try using .loc[row_indexer,col_indexer] = value instead\n",
      "\n",
      "See the caveats in the documentation: https://pandas.pydata.org/pandas-docs/stable/user_guide/indexing.html#returning-a-view-versus-a-copy\n",
      "  \n"
     ]
    }
   ],
   "source": [
    "# pre-process text and store the same\n",
    "news_titles_df['clean_text'] = normalize_corpus(news_titles_df['text'])"
   ]
  },
  {
   "cell_type": "code",
   "execution_count": 42,
   "metadata": {},
   "outputs": [
    {
     "data": {
      "text/html": [
       "<div>\n",
       "<style scoped>\n",
       "    .dataframe tbody tr th:only-of-type {\n",
       "        vertical-align: middle;\n",
       "    }\n",
       "\n",
       "    .dataframe tbody tr th {\n",
       "        vertical-align: top;\n",
       "    }\n",
       "\n",
       "    .dataframe thead th {\n",
       "        text-align: right;\n",
       "    }\n",
       "</style>\n",
       "<table border=\"1\" class=\"dataframe\">\n",
       "  <thead>\n",
       "    <tr style=\"text-align: right;\">\n",
       "      <th></th>\n",
       "      <th>Title1</th>\n",
       "      <th>Title2</th>\n",
       "      <th>Title3</th>\n",
       "      <th>text</th>\n",
       "      <th>clean_text</th>\n",
       "    </tr>\n",
       "    <tr>\n",
       "      <th>Date</th>\n",
       "      <th></th>\n",
       "      <th></th>\n",
       "      <th></th>\n",
       "      <th></th>\n",
       "      <th></th>\n",
       "    </tr>\n",
       "  </thead>\n",
       "  <tbody>\n",
       "    <tr>\n",
       "      <th>2021-07-03</th>\n",
       "      <td>Baby boomers face financial distress and age d...</td>\n",
       "      <td>Gold-Obsessed Young Indians Invest Heavily In ...</td>\n",
       "      <td>Gold Struggling On The Floor, Buy The Dip</td>\n",
       "      <td>Baby boomers face financial distress and age d...</td>\n",
       "      <td>baby boomer face financial distress age discri...</td>\n",
       "    </tr>\n",
       "    <tr>\n",
       "      <th>2021-07-02</th>\n",
       "      <td>NV Gold President/CEO resigns</td>\n",
       "      <td>Price of Gold Fundamental Daily Forecast – NFP...</td>\n",
       "      <td>Gold ticks up, and the dollar index slides in ...</td>\n",
       "      <td>NV Gold President/CEO resigns\\nPrice of Gold F...</td>\n",
       "      <td>nv gold president ceo resign price gold fundam...</td>\n",
       "    </tr>\n",
       "    <tr>\n",
       "      <th>2021-07-01</th>\n",
       "      <td>Price of Gold Fundamental Daily Forecast – Mor...</td>\n",
       "      <td>Daily Gold News: Thursday, July 1 – Gold Getti...</td>\n",
       "      <td>Gold logs back-to-back gains to start July, se...</td>\n",
       "      <td>Price of Gold Fundamental Daily Forecast – Mor...</td>\n",
       "      <td>price gold fundamental daily forecast position...</td>\n",
       "    </tr>\n",
       "    <tr>\n",
       "      <th>2021-06-30</th>\n",
       "      <td>The Last Trading Day of the First Half of 2021...</td>\n",
       "      <td>Global shares fall on pandemic fears ahead of ...</td>\n",
       "      <td>Gold Records Worst Monthly Loss in Five Years ...</td>\n",
       "      <td>The Last Trading Day of the First Half of 2021...</td>\n",
       "      <td>last trading day first half conclude gold incu...</td>\n",
       "    </tr>\n",
       "    <tr>\n",
       "      <th>2021-06-29</th>\n",
       "      <td>Gold Heads for Worst Month Since 2016 on Dolla...</td>\n",
       "      <td>Global shares edge lower on new COVID-19 outbr...</td>\n",
       "      <td>Gold Drops as the U.S. Central Bank’s Vaguenes...</td>\n",
       "      <td>Gold Heads for Worst Month Since 2016 on Dolla...</td>\n",
       "      <td>gold head bad month since dollar strength feed...</td>\n",
       "    </tr>\n",
       "  </tbody>\n",
       "</table>\n",
       "</div>"
      ],
      "text/plain": [
       "                                                       Title1  \\\n",
       "Date                                                            \n",
       "2021-07-03  Baby boomers face financial distress and age d...   \n",
       "2021-07-02                      NV Gold President/CEO resigns   \n",
       "2021-07-01  Price of Gold Fundamental Daily Forecast – Mor...   \n",
       "2021-06-30  The Last Trading Day of the First Half of 2021...   \n",
       "2021-06-29  Gold Heads for Worst Month Since 2016 on Dolla...   \n",
       "\n",
       "                                                       Title2  \\\n",
       "Date                                                            \n",
       "2021-07-03  Gold-Obsessed Young Indians Invest Heavily In ...   \n",
       "2021-07-02  Price of Gold Fundamental Daily Forecast – NFP...   \n",
       "2021-07-01  Daily Gold News: Thursday, July 1 – Gold Getti...   \n",
       "2021-06-30  Global shares fall on pandemic fears ahead of ...   \n",
       "2021-06-29  Global shares edge lower on new COVID-19 outbr...   \n",
       "\n",
       "                                                       Title3  \\\n",
       "Date                                                            \n",
       "2021-07-03          Gold Struggling On The Floor, Buy The Dip   \n",
       "2021-07-02  Gold ticks up, and the dollar index slides in ...   \n",
       "2021-07-01  Gold logs back-to-back gains to start July, se...   \n",
       "2021-06-30  Gold Records Worst Monthly Loss in Five Years ...   \n",
       "2021-06-29  Gold Drops as the U.S. Central Bank’s Vaguenes...   \n",
       "\n",
       "                                                         text  \\\n",
       "Date                                                            \n",
       "2021-07-03  Baby boomers face financial distress and age d...   \n",
       "2021-07-02  NV Gold President/CEO resigns\\nPrice of Gold F...   \n",
       "2021-07-01  Price of Gold Fundamental Daily Forecast – Mor...   \n",
       "2021-06-30  The Last Trading Day of the First Half of 2021...   \n",
       "2021-06-29  Gold Heads for Worst Month Since 2016 on Dolla...   \n",
       "\n",
       "                                                   clean_text  \n",
       "Date                                                           \n",
       "2021-07-03  baby boomer face financial distress age discri...  \n",
       "2021-07-02  nv gold president ceo resign price gold fundam...  \n",
       "2021-07-01  price gold fundamental daily forecast position...  \n",
       "2021-06-30  last trading day first half conclude gold incu...  \n",
       "2021-06-29  gold head bad month since dollar strength feed...  "
      ]
     },
     "execution_count": 42,
     "metadata": {},
     "output_type": "execute_result"
    }
   ],
   "source": [
    "news_titles_df.head()"
   ]
  },
  {
   "cell_type": "code",
   "execution_count": 43,
   "metadata": {},
   "outputs": [],
   "source": [
    "norm_corpus = list(news_titles_df['clean_text'])"
   ]
  },
  {
   "cell_type": "code",
   "execution_count": 45,
   "metadata": {},
   "outputs": [
    {
     "data": {
      "text/plain": [
       "{'text': \"NV Gold President/CEO resigns\\nPrice of Gold Fundamental Daily Forecast – NFP Disappointing for Those Betting on Easy Policy Decision for Fed\\nGold ticks up, and the dollar index slides in first reaction to Friday's jobs reports\",\n",
       " 'clean_text': 'nv gold president ceo resign price gold fundamental daily forecast nfp disappointing bet easy policy decision fed gold tick dollar index slide first reaction friday job report'}"
      ]
     },
     "execution_count": 45,
     "metadata": {},
     "output_type": "execute_result"
    }
   ],
   "source": [
    "# show a sample news article\n",
    "news_titles_df.iloc[1][['text', 'clean_text']].to_dict()"
   ]
  },
  {
   "cell_type": "markdown",
   "metadata": {},
   "source": [
    "# Tagging Parts of Speech"
   ]
  },
  {
   "cell_type": "code",
   "execution_count": 47,
   "metadata": {},
   "outputs": [],
   "source": [
    "# create a basic pre-processed corpus, don't lowercase to get POS context\n",
    "corpus = normalize_corpus(news_titles_df['text'], text_lower_case=False, \n",
    "                          text_lemmatization=False, special_char_removal=False)"
   ]
  },
  {
   "cell_type": "code",
   "execution_count": 48,
   "metadata": {},
   "outputs": [],
   "source": [
    "# demo for POS tagging for sample news title 1\n",
    "sentence = str(news_titles_df.iloc[1].Title1)\n",
    "sentence_nlp = nlp(sentence)"
   ]
  },
  {
   "cell_type": "code",
   "execution_count": 49,
   "metadata": {},
   "outputs": [
    {
     "data": {
      "text/html": [
       "<div>\n",
       "<style scoped>\n",
       "    .dataframe tbody tr th:only-of-type {\n",
       "        vertical-align: middle;\n",
       "    }\n",
       "\n",
       "    .dataframe tbody tr th {\n",
       "        vertical-align: top;\n",
       "    }\n",
       "\n",
       "    .dataframe thead th {\n",
       "        text-align: right;\n",
       "    }\n",
       "</style>\n",
       "<table border=\"1\" class=\"dataframe\">\n",
       "  <thead>\n",
       "    <tr style=\"text-align: right;\">\n",
       "      <th></th>\n",
       "      <th>Word</th>\n",
       "      <th>POS tag</th>\n",
       "      <th>Tag type</th>\n",
       "    </tr>\n",
       "  </thead>\n",
       "  <tbody>\n",
       "    <tr>\n",
       "      <th>0</th>\n",
       "      <td>NV</td>\n",
       "      <td>NNP</td>\n",
       "      <td>PROPN</td>\n",
       "    </tr>\n",
       "    <tr>\n",
       "      <th>1</th>\n",
       "      <td>Gold</td>\n",
       "      <td>NNP</td>\n",
       "      <td>PROPN</td>\n",
       "    </tr>\n",
       "    <tr>\n",
       "      <th>2</th>\n",
       "      <td>President</td>\n",
       "      <td>NNP</td>\n",
       "      <td>PROPN</td>\n",
       "    </tr>\n",
       "    <tr>\n",
       "      <th>3</th>\n",
       "      <td>/</td>\n",
       "      <td>SYM</td>\n",
       "      <td>SYM</td>\n",
       "    </tr>\n",
       "    <tr>\n",
       "      <th>4</th>\n",
       "      <td>CEO</td>\n",
       "      <td>NNP</td>\n",
       "      <td>PROPN</td>\n",
       "    </tr>\n",
       "    <tr>\n",
       "      <th>5</th>\n",
       "      <td>resigns</td>\n",
       "      <td>VBZ</td>\n",
       "      <td>VERB</td>\n",
       "    </tr>\n",
       "  </tbody>\n",
       "</table>\n",
       "</div>"
      ],
      "text/plain": [
       "        Word POS tag Tag type\n",
       "0         NV     NNP    PROPN\n",
       "1       Gold     NNP    PROPN\n",
       "2  President     NNP    PROPN\n",
       "3          /     SYM      SYM\n",
       "4        CEO     NNP    PROPN\n",
       "5    resigns     VBZ     VERB"
      ]
     },
     "execution_count": 49,
     "metadata": {},
     "output_type": "execute_result"
    }
   ],
   "source": [
    "# POS tagging with Spacy \n",
    "spacy_pos_tagged = [(word, word.tag_, word.pos_) for word in sentence_nlp]\n",
    "pd.DataFrame(spacy_pos_tagged, columns=['Word', 'POS tag', 'Tag type'])"
   ]
  },
  {
   "cell_type": "code",
   "execution_count": 50,
   "metadata": {},
   "outputs": [
    {
     "data": {
      "text/html": [
       "<div>\n",
       "<style scoped>\n",
       "    .dataframe tbody tr th:only-of-type {\n",
       "        vertical-align: middle;\n",
       "    }\n",
       "\n",
       "    .dataframe tbody tr th {\n",
       "        vertical-align: top;\n",
       "    }\n",
       "\n",
       "    .dataframe thead th {\n",
       "        text-align: right;\n",
       "    }\n",
       "</style>\n",
       "<table border=\"1\" class=\"dataframe\">\n",
       "  <thead>\n",
       "    <tr style=\"text-align: right;\">\n",
       "      <th></th>\n",
       "      <th>Word</th>\n",
       "      <th>POS tag</th>\n",
       "    </tr>\n",
       "  </thead>\n",
       "  <tbody>\n",
       "    <tr>\n",
       "      <th>0</th>\n",
       "      <td>NV</td>\n",
       "      <td>NNP</td>\n",
       "    </tr>\n",
       "    <tr>\n",
       "      <th>1</th>\n",
       "      <td>Gold</td>\n",
       "      <td>NNP</td>\n",
       "    </tr>\n",
       "    <tr>\n",
       "      <th>2</th>\n",
       "      <td>President/CEO</td>\n",
       "      <td>NNP</td>\n",
       "    </tr>\n",
       "    <tr>\n",
       "      <th>3</th>\n",
       "      <td>resigns</td>\n",
       "      <td>NN</td>\n",
       "    </tr>\n",
       "  </tbody>\n",
       "</table>\n",
       "</div>"
      ],
      "text/plain": [
       "            Word POS tag\n",
       "0             NV     NNP\n",
       "1           Gold     NNP\n",
       "2  President/CEO     NNP\n",
       "3        resigns      NN"
      ]
     },
     "execution_count": 50,
     "metadata": {},
     "output_type": "execute_result"
    }
   ],
   "source": [
    "# POS tagging with nltk\n",
    "nltk_pos_tagged = nltk.pos_tag(sentence.split())\n",
    "pd.DataFrame(nltk_pos_tagged, columns=['Word', 'POS tag'])"
   ]
  },
  {
   "cell_type": "markdown",
   "metadata": {},
   "source": [
    "# Named Entity Recognition"
   ]
  },
  {
   "cell_type": "code",
   "execution_count": 51,
   "metadata": {},
   "outputs": [],
   "source": [
    "from spacy import displacy"
   ]
  },
  {
   "cell_type": "code",
   "execution_count": 52,
   "metadata": {},
   "outputs": [
    {
     "name": "stdout",
     "output_type": "stream",
     "text": [
      "[(NV, 'ORG'), (Gold, 'ORG'), (Fundamental, 'ORG'), (Daily, 'ORG'), (Forecast, 'ORG'), (Fed, 'ORG'), (first, 'ORDINAL'), (Friday, 'DATE')]\n"
     ]
    },
    {
     "data": {
      "text/html": [
       "<span class=\"tex2jax_ignore\"><div class=\"entities\" style=\"line-height: 2.5; direction: ltr\">\n",
       "<mark class=\"entity\" style=\"background: #7aecec; padding: 0.45em 0.6em; margin: 0 0.25em; line-height: 1; border-radius: 0.35em;\">\n",
       "    NV\n",
       "    <span style=\"font-size: 0.8em; font-weight: bold; line-height: 1; border-radius: 0.35em; text-transform: uppercase; vertical-align: middle; margin-left: 0.5rem\">ORG</span>\n",
       "</mark>\n",
       " Gold President/CEO resigns</br>Price of \n",
       "<mark class=\"entity\" style=\"background: #7aecec; padding: 0.45em 0.6em; margin: 0 0.25em; line-height: 1; border-radius: 0.35em;\">\n",
       "    Gold Fundamental Daily Forecast\n",
       "    <span style=\"font-size: 0.8em; font-weight: bold; line-height: 1; border-radius: 0.35em; text-transform: uppercase; vertical-align: middle; margin-left: 0.5rem\">ORG</span>\n",
       "</mark>\n",
       " – NFP Disappointing for Those Betting on Easy Policy Decision for \n",
       "<mark class=\"entity\" style=\"background: #7aecec; padding: 0.45em 0.6em; margin: 0 0.25em; line-height: 1; border-radius: 0.35em;\">\n",
       "    Fed\n",
       "    <span style=\"font-size: 0.8em; font-weight: bold; line-height: 1; border-radius: 0.35em; text-transform: uppercase; vertical-align: middle; margin-left: 0.5rem\">ORG</span>\n",
       "</mark>\n",
       "</br>Gold ticks up, and the dollar index slides in \n",
       "<mark class=\"entity\" style=\"background: #e4e7d2; padding: 0.45em 0.6em; margin: 0 0.25em; line-height: 1; border-radius: 0.35em;\">\n",
       "    first\n",
       "    <span style=\"font-size: 0.8em; font-weight: bold; line-height: 1; border-radius: 0.35em; text-transform: uppercase; vertical-align: middle; margin-left: 0.5rem\">ORDINAL</span>\n",
       "</mark>\n",
       " reaction to \n",
       "<mark class=\"entity\" style=\"background: #bfe1d9; padding: 0.45em 0.6em; margin: 0 0.25em; line-height: 1; border-radius: 0.35em;\">\n",
       "    Friday\n",
       "    <span style=\"font-size: 0.8em; font-weight: bold; line-height: 1; border-radius: 0.35em; text-transform: uppercase; vertical-align: middle; margin-left: 0.5rem\">DATE</span>\n",
       "</mark>\n",
       "'s jobs reports</div></span>"
      ],
      "text/plain": [
       "<IPython.core.display.HTML object>"
      ]
     },
     "metadata": {},
     "output_type": "display_data"
    }
   ],
   "source": [
    "sentence = str(news_titles_df.iloc[1].text)\n",
    "sentence_nlp = nlp(sentence)\n",
    "\n",
    "# print named entities in article\n",
    "print([(word, word.ent_type_) for word in sentence_nlp if word.ent_type_])\n",
    "\n",
    "# visualize named entities\n",
    "displacy.render(sentence_nlp, style='ent', jupyter=True)"
   ]
  },
  {
   "cell_type": "code",
   "execution_count": 53,
   "metadata": {},
   "outputs": [],
   "source": [
    "named_entities = []\n",
    "for sentence in corpus:\n",
    "    temp_entity_name = ''\n",
    "    temp_named_entity = None\n",
    "    sentence = nlp(sentence)\n",
    "    for word in sentence:\n",
    "        term = word.text \n",
    "        tag = word.ent_type_\n",
    "        if tag:\n",
    "            temp_entity_name = ' '.join([temp_entity_name, term]).strip()\n",
    "            temp_named_entity = (temp_entity_name, tag)\n",
    "        else:\n",
    "            if temp_named_entity:\n",
    "                named_entities.append(temp_named_entity)\n",
    "                temp_entity_name = ''\n",
    "                temp_named_entity = None\n",
    "\n",
    "entity_frame = pd.DataFrame(named_entities, \n",
    "                            columns=['Entity Name', 'Entity Type'])"
   ]
  },
  {
   "cell_type": "code",
   "execution_count": 54,
   "metadata": {},
   "outputs": [
    {
     "data": {
      "text/html": [
       "<div>\n",
       "<style scoped>\n",
       "    .dataframe tbody tr th:only-of-type {\n",
       "        vertical-align: middle;\n",
       "    }\n",
       "\n",
       "    .dataframe tbody tr th {\n",
       "        vertical-align: top;\n",
       "    }\n",
       "\n",
       "    .dataframe thead th {\n",
       "        text-align: right;\n",
       "    }\n",
       "</style>\n",
       "<table border=\"1\" class=\"dataframe\">\n",
       "  <thead>\n",
       "    <tr style=\"text-align: right;\">\n",
       "      <th></th>\n",
       "      <th>0</th>\n",
       "      <th>1</th>\n",
       "      <th>2</th>\n",
       "      <th>3</th>\n",
       "      <th>4</th>\n",
       "      <th>5</th>\n",
       "      <th>6</th>\n",
       "      <th>7</th>\n",
       "      <th>8</th>\n",
       "      <th>9</th>\n",
       "      <th>10</th>\n",
       "      <th>11</th>\n",
       "      <th>12</th>\n",
       "      <th>13</th>\n",
       "      <th>14</th>\n",
       "    </tr>\n",
       "  </thead>\n",
       "  <tbody>\n",
       "    <tr>\n",
       "      <th>Entity Name</th>\n",
       "      <td>XAUUSD</td>\n",
       "      <td>U.S.</td>\n",
       "      <td>Fed</td>\n",
       "      <td>Bitcoin</td>\n",
       "      <td>Q1</td>\n",
       "      <td>Treasury</td>\n",
       "      <td>US</td>\n",
       "      <td>1,741</td>\n",
       "      <td>Two - Month</td>\n",
       "      <td>1900</td>\n",
       "      <td>Four - Month</td>\n",
       "      <td>Four - Week</td>\n",
       "      <td>Three</td>\n",
       "      <td>1,900</td>\n",
       "      <td>One</td>\n",
       "    </tr>\n",
       "    <tr>\n",
       "      <th>Entity Type</th>\n",
       "      <td>ORG</td>\n",
       "      <td>GPE</td>\n",
       "      <td>ORG</td>\n",
       "      <td>GPE</td>\n",
       "      <td>CARDINAL</td>\n",
       "      <td>ORG</td>\n",
       "      <td>GPE</td>\n",
       "      <td>MONEY</td>\n",
       "      <td>DATE</td>\n",
       "      <td>MONEY</td>\n",
       "      <td>DATE</td>\n",
       "      <td>DATE</td>\n",
       "      <td>CARDINAL</td>\n",
       "      <td>MONEY</td>\n",
       "      <td>CARDINAL</td>\n",
       "    </tr>\n",
       "    <tr>\n",
       "      <th>Frequency</th>\n",
       "      <td>22</td>\n",
       "      <td>21</td>\n",
       "      <td>9</td>\n",
       "      <td>9</td>\n",
       "      <td>7</td>\n",
       "      <td>6</td>\n",
       "      <td>4</td>\n",
       "      <td>4</td>\n",
       "      <td>4</td>\n",
       "      <td>4</td>\n",
       "      <td>4</td>\n",
       "      <td>3</td>\n",
       "      <td>3</td>\n",
       "      <td>3</td>\n",
       "      <td>3</td>\n",
       "    </tr>\n",
       "  </tbody>\n",
       "</table>\n",
       "</div>"
      ],
      "text/plain": [
       "                  0     1    2        3         4         5    6      7  \\\n",
       "Entity Name  XAUUSD  U.S.  Fed  Bitcoin        Q1  Treasury   US  1,741   \n",
       "Entity Type     ORG   GPE  ORG      GPE  CARDINAL       ORG  GPE  MONEY   \n",
       "Frequency        22    21    9        9         7         6    4      4   \n",
       "\n",
       "                       8      9            10           11        12     13  \\\n",
       "Entity Name  Two - Month   1900  Four - Month  Four - Week     Three  1,900   \n",
       "Entity Type         DATE  MONEY          DATE         DATE  CARDINAL  MONEY   \n",
       "Frequency              4      4             4            3         3      3   \n",
       "\n",
       "                   14  \n",
       "Entity Name       One  \n",
       "Entity Type  CARDINAL  \n",
       "Frequency           3  "
      ]
     },
     "execution_count": 54,
     "metadata": {},
     "output_type": "execute_result"
    }
   ],
   "source": [
    "# get the top named entities\n",
    "top_entities = (entity_frame.groupby(by=['Entity Name', 'Entity Type'])\n",
    "                           .size()\n",
    "                           .sort_values(ascending=False)\n",
    "                           .reset_index().rename(columns={0 : 'Frequency'}))\n",
    "top_entities.T.iloc[:,:15]"
   ]
  },
  {
   "cell_type": "code",
   "execution_count": 55,
   "metadata": {},
   "outputs": [
    {
     "data": {
      "text/html": [
       "<div>\n",
       "<style scoped>\n",
       "    .dataframe tbody tr th:only-of-type {\n",
       "        vertical-align: middle;\n",
       "    }\n",
       "\n",
       "    .dataframe tbody tr th {\n",
       "        vertical-align: top;\n",
       "    }\n",
       "\n",
       "    .dataframe thead th {\n",
       "        text-align: right;\n",
       "    }\n",
       "</style>\n",
       "<table border=\"1\" class=\"dataframe\">\n",
       "  <thead>\n",
       "    <tr style=\"text-align: right;\">\n",
       "      <th></th>\n",
       "      <th>0</th>\n",
       "      <th>1</th>\n",
       "      <th>2</th>\n",
       "      <th>3</th>\n",
       "      <th>4</th>\n",
       "      <th>5</th>\n",
       "      <th>6</th>\n",
       "      <th>7</th>\n",
       "      <th>8</th>\n",
       "      <th>9</th>\n",
       "      <th>10</th>\n",
       "      <th>11</th>\n",
       "      <th>12</th>\n",
       "      <th>13</th>\n",
       "    </tr>\n",
       "  </thead>\n",
       "  <tbody>\n",
       "    <tr>\n",
       "      <th>Entity Type</th>\n",
       "      <td>ORG</td>\n",
       "      <td>DATE</td>\n",
       "      <td>PERSON</td>\n",
       "      <td>MONEY</td>\n",
       "      <td>GPE</td>\n",
       "      <td>CARDINAL</td>\n",
       "      <td>PERCENT</td>\n",
       "      <td>ORDINAL</td>\n",
       "      <td>NORP</td>\n",
       "      <td>WORK_OF_ART</td>\n",
       "      <td>PRODUCT</td>\n",
       "      <td>LAW</td>\n",
       "      <td>FAC</td>\n",
       "      <td>LOC</td>\n",
       "    </tr>\n",
       "    <tr>\n",
       "      <th>Frequency</th>\n",
       "      <td>127</td>\n",
       "      <td>71</td>\n",
       "      <td>65</td>\n",
       "      <td>61</td>\n",
       "      <td>43</td>\n",
       "      <td>24</td>\n",
       "      <td>10</td>\n",
       "      <td>8</td>\n",
       "      <td>6</td>\n",
       "      <td>5</td>\n",
       "      <td>3</td>\n",
       "      <td>2</td>\n",
       "      <td>2</td>\n",
       "      <td>1</td>\n",
       "    </tr>\n",
       "  </tbody>\n",
       "</table>\n",
       "</div>"
      ],
      "text/plain": [
       "               0     1       2      3    4         5        6        7     8  \\\n",
       "Entity Type  ORG  DATE  PERSON  MONEY  GPE  CARDINAL  PERCENT  ORDINAL  NORP   \n",
       "Frequency    127    71      65     61   43        24       10        8     6   \n",
       "\n",
       "                       9       10   11   12   13  \n",
       "Entity Type  WORK_OF_ART  PRODUCT  LAW  FAC  LOC  \n",
       "Frequency              5        3    2    2    1  "
      ]
     },
     "execution_count": 55,
     "metadata": {},
     "output_type": "execute_result"
    }
   ],
   "source": [
    "# get the top named entity types\n",
    "top_entities = (entity_frame.groupby(by=['Entity Type'])\n",
    "                           .size()\n",
    "                           .sort_values(ascending=False)\n",
    "                           .reset_index().rename(columns={0 : 'Frequency'}))\n",
    "top_entities.T.iloc[:,:15]"
   ]
  },
  {
   "cell_type": "markdown",
   "metadata": {},
   "source": [
    "# Sentiment Analysis with AFINN Lexicon"
   ]
  },
  {
   "cell_type": "code",
   "execution_count": 56,
   "metadata": {},
   "outputs": [],
   "source": [
    "# initialize afinn sentiment analyzer\n",
    "from afinn import Afinn\n",
    "af = Afinn()"
   ]
  },
  {
   "cell_type": "code",
   "execution_count": 59,
   "metadata": {},
   "outputs": [],
   "source": [
    "# compute sentiment scores (polarity) and labels\n",
    "sentiment_scores = [af.score(article) for article in corpus]\n",
    "sentiment_category = ['positive' if score > 0 \n",
    "                          else 'negative' if score < 0 \n",
    "                              else 'neutral' \n",
    "                                  for score in sentiment_scores]"
   ]
  },
  {
   "cell_type": "code",
   "execution_count": 60,
   "metadata": {},
   "outputs": [
    {
     "data": {
      "text/plain": [
       "[2.0,\n",
       " 4.0,\n",
       " 10.0,\n",
       " -4.0,\n",
       " 2.0,\n",
       " 3.0,\n",
       " 3.0,\n",
       " 6.0,\n",
       " 2.0,\n",
       " 9.0,\n",
       " 8.0,\n",
       " 3.0,\n",
       " 5.0,\n",
       " 5.0,\n",
       " 4.0,\n",
       " 1.0,\n",
       " 2.0,\n",
       " 1.0,\n",
       " 2.0,\n",
       " 8.0,\n",
       " -1.0,\n",
       " 4.0,\n",
       " 0.0,\n",
       " 5.0,\n",
       " 3.0,\n",
       " 9.0,\n",
       " 6.0,\n",
       " 2.0,\n",
       " 3.0,\n",
       " 4.0,\n",
       " 6.0,\n",
       " 6.0,\n",
       " 5.0,\n",
       " 8.0,\n",
       " 6.0,\n",
       " 5.0,\n",
       " 5.0,\n",
       " 7.0,\n",
       " 9.0,\n",
       " 2.0,\n",
       " 6.0,\n",
       " 8.0,\n",
       " 5.0,\n",
       " 0.0,\n",
       " 7.0,\n",
       " 5.0,\n",
       " 6.0,\n",
       " 6.0,\n",
       " 2.0,\n",
       " 4.0,\n",
       " 2.0,\n",
       " 8.0,\n",
       " 4.0,\n",
       " 8.0,\n",
       " 3.0,\n",
       " 2.0,\n",
       " 4.0,\n",
       " 1.0,\n",
       " 4.0,\n",
       " 8.0,\n",
       " 5.0,\n",
       " 6.0,\n",
       " 1.0,\n",
       " 3.0,\n",
       " 5.0,\n",
       " 7.0,\n",
       " 6.0,\n",
       " 5.0,\n",
       " 0.0,\n",
       " 7.0,\n",
       " 9.0,\n",
       " 6.0,\n",
       " 6.0,\n",
       " 6.0,\n",
       " 4.0,\n",
       " 8.0,\n",
       " 3.0,\n",
       " 10.0,\n",
       " 12.0,\n",
       " 9.0,\n",
       " 8.0,\n",
       " 8.0,\n",
       " 9.0,\n",
       " 5.0,\n",
       " 2.0,\n",
       " 13.0,\n",
       " 5.0,\n",
       " 12.0,\n",
       " 7.0,\n",
       " 7.0,\n",
       " 3.0,\n",
       " 2.0,\n",
       " 6.0,\n",
       " 6.0,\n",
       " 9.0,\n",
       " 4.0,\n",
       " 5.0,\n",
       " 4.0,\n",
       " 5.0,\n",
       " 4.0,\n",
       " 6.0,\n",
       " 6.0,\n",
       " 8.0,\n",
       " 6.0,\n",
       " 2.0,\n",
       " 9.0,\n",
       " 7.0,\n",
       " 5.0,\n",
       " 6.0,\n",
       " 4.0,\n",
       " 12.0,\n",
       " 2.0,\n",
       " 8.0,\n",
       " 11.0,\n",
       " 8.0,\n",
       " 8.0,\n",
       " 6.0,\n",
       " 9.0,\n",
       " 2.0,\n",
       " 9.0,\n",
       " 5.0,\n",
       " 8.0,\n",
       " 6.0,\n",
       " 3.0,\n",
       " 5.0,\n",
       " 4.0,\n",
       " 4.0,\n",
       " 2.0,\n",
       " 8.0,\n",
       " -2.0,\n",
       " 9.0,\n",
       " 11.0,\n",
       " 10.0,\n",
       " 2.0,\n",
       " 6.0,\n",
       " 4.0,\n",
       " 8.0,\n",
       " -1.0,\n",
       " 6.0,\n",
       " 0.0,\n",
       " 6.0,\n",
       " 5.0,\n",
       " 6.0,\n",
       " 6.0,\n",
       " 7.0,\n",
       " 3.0,\n",
       " 10.0,\n",
       " 8.0,\n",
       " 4.0,\n",
       " 5.0,\n",
       " 6.0,\n",
       " 11.0,\n",
       " 9.0,\n",
       " 2.0,\n",
       " 2.0,\n",
       " 4.0,\n",
       " 8.0,\n",
       " 3.0,\n",
       " 5.0,\n",
       " 0.0,\n",
       " 3.0,\n",
       " 0.0,\n",
       " 6.0,\n",
       " 8.0,\n",
       " 16.0,\n",
       " 7.0,\n",
       " 5.0,\n",
       " 9.0,\n",
       " 3.0,\n",
       " 3.0,\n",
       " 5.0,\n",
       " 8.0,\n",
       " 6.0,\n",
       " 3.0,\n",
       " 4.0,\n",
       " 4.0,\n",
       " -1.0,\n",
       " 8.0,\n",
       " 7.0,\n",
       " 8.0,\n",
       " 1.0,\n",
       " 5.0,\n",
       " 8.0,\n",
       " 6.0]"
      ]
     },
     "execution_count": 60,
     "metadata": {},
     "output_type": "execute_result"
    }
   ],
   "source": [
    "list(sentiment_scores)"
   ]
  },
  {
   "cell_type": "code",
   "execution_count": 65,
   "metadata": {},
   "outputs": [],
   "source": [
    "# sentiment statistics per news category\n",
    "df = pd.DataFrame([list(news_titles_df['text']), sentiment_scores, sentiment_category]).T\n",
    "df.columns = ['text', 'sentiment_score', 'sentiment_category']\n",
    "df['sentiment_score'] = df.sentiment_score.astype('float')"
   ]
  },
  {
   "cell_type": "code",
   "execution_count": 68,
   "metadata": {},
   "outputs": [
    {
     "data": {
      "text/html": [
       "<div>\n",
       "<style scoped>\n",
       "    .dataframe tbody tr th:only-of-type {\n",
       "        vertical-align: middle;\n",
       "    }\n",
       "\n",
       "    .dataframe tbody tr th {\n",
       "        vertical-align: top;\n",
       "    }\n",
       "\n",
       "    .dataframe thead th {\n",
       "        text-align: right;\n",
       "    }\n",
       "</style>\n",
       "<table border=\"1\" class=\"dataframe\">\n",
       "  <thead>\n",
       "    <tr style=\"text-align: right;\">\n",
       "      <th></th>\n",
       "      <th>text</th>\n",
       "      <th>sentiment_score</th>\n",
       "      <th>sentiment_category</th>\n",
       "    </tr>\n",
       "  </thead>\n",
       "  <tbody>\n",
       "    <tr>\n",
       "      <th>0</th>\n",
       "      <td>Baby boomers face financial distress and age d...</td>\n",
       "      <td>2.0</td>\n",
       "      <td>positive</td>\n",
       "    </tr>\n",
       "    <tr>\n",
       "      <th>1</th>\n",
       "      <td>NV Gold President/CEO resigns\\nPrice of Gold F...</td>\n",
       "      <td>4.0</td>\n",
       "      <td>positive</td>\n",
       "    </tr>\n",
       "    <tr>\n",
       "      <th>2</th>\n",
       "      <td>Price of Gold Fundamental Daily Forecast – Mor...</td>\n",
       "      <td>10.0</td>\n",
       "      <td>positive</td>\n",
       "    </tr>\n",
       "    <tr>\n",
       "      <th>3</th>\n",
       "      <td>The Last Trading Day of the First Half of 2021...</td>\n",
       "      <td>-4.0</td>\n",
       "      <td>negative</td>\n",
       "    </tr>\n",
       "    <tr>\n",
       "      <th>4</th>\n",
       "      <td>Gold Heads for Worst Month Since 2016 on Dolla...</td>\n",
       "      <td>2.0</td>\n",
       "      <td>positive</td>\n",
       "    </tr>\n",
       "  </tbody>\n",
       "</table>\n",
       "</div>"
      ],
      "text/plain": [
       "                                                text  sentiment_score  \\\n",
       "0  Baby boomers face financial distress and age d...              2.0   \n",
       "1  NV Gold President/CEO resigns\\nPrice of Gold F...              4.0   \n",
       "2  Price of Gold Fundamental Daily Forecast – Mor...             10.0   \n",
       "3  The Last Trading Day of the First Half of 2021...             -4.0   \n",
       "4  Gold Heads for Worst Month Since 2016 on Dolla...              2.0   \n",
       "\n",
       "  sentiment_category  \n",
       "0           positive  \n",
       "1           positive  \n",
       "2           positive  \n",
       "3           negative  \n",
       "4           positive  "
      ]
     },
     "execution_count": 68,
     "metadata": {},
     "output_type": "execute_result"
    }
   ],
   "source": [
    "df.head()"
   ]
  },
  {
   "cell_type": "code",
   "execution_count": 69,
   "metadata": {},
   "outputs": [
    {
     "data": {
      "text/html": [
       "<div>\n",
       "<style scoped>\n",
       "    .dataframe tbody tr th:only-of-type {\n",
       "        vertical-align: middle;\n",
       "    }\n",
       "\n",
       "    .dataframe tbody tr th {\n",
       "        vertical-align: top;\n",
       "    }\n",
       "\n",
       "    .dataframe thead tr th {\n",
       "        text-align: left;\n",
       "    }\n",
       "\n",
       "    .dataframe thead tr:last-of-type th {\n",
       "        text-align: right;\n",
       "    }\n",
       "</style>\n",
       "<table border=\"1\" class=\"dataframe\">\n",
       "  <thead>\n",
       "    <tr>\n",
       "      <th></th>\n",
       "      <th colspan=\"8\" halign=\"left\">sentiment_score</th>\n",
       "    </tr>\n",
       "    <tr>\n",
       "      <th></th>\n",
       "      <th>count</th>\n",
       "      <th>mean</th>\n",
       "      <th>std</th>\n",
       "      <th>min</th>\n",
       "      <th>25%</th>\n",
       "      <th>50%</th>\n",
       "      <th>75%</th>\n",
       "      <th>max</th>\n",
       "    </tr>\n",
       "    <tr>\n",
       "      <th>sentiment_category</th>\n",
       "      <th></th>\n",
       "      <th></th>\n",
       "      <th></th>\n",
       "      <th></th>\n",
       "      <th></th>\n",
       "      <th></th>\n",
       "      <th></th>\n",
       "      <th></th>\n",
       "    </tr>\n",
       "  </thead>\n",
       "  <tbody>\n",
       "    <tr>\n",
       "      <th>negative</th>\n",
       "      <td>5.0</td>\n",
       "      <td>-1.800000</td>\n",
       "      <td>1.303840</td>\n",
       "      <td>-4.0</td>\n",
       "      <td>-2.0</td>\n",
       "      <td>-1.0</td>\n",
       "      <td>-1.0</td>\n",
       "      <td>-1.0</td>\n",
       "    </tr>\n",
       "    <tr>\n",
       "      <th>neutral</th>\n",
       "      <td>6.0</td>\n",
       "      <td>0.000000</td>\n",
       "      <td>0.000000</td>\n",
       "      <td>0.0</td>\n",
       "      <td>0.0</td>\n",
       "      <td>0.0</td>\n",
       "      <td>0.0</td>\n",
       "      <td>0.0</td>\n",
       "    </tr>\n",
       "    <tr>\n",
       "      <th>positive</th>\n",
       "      <td>173.0</td>\n",
       "      <td>5.710983</td>\n",
       "      <td>2.729628</td>\n",
       "      <td>1.0</td>\n",
       "      <td>4.0</td>\n",
       "      <td>6.0</td>\n",
       "      <td>8.0</td>\n",
       "      <td>16.0</td>\n",
       "    </tr>\n",
       "  </tbody>\n",
       "</table>\n",
       "</div>"
      ],
      "text/plain": [
       "                   sentiment_score                                          \\\n",
       "                             count      mean       std  min  25%  50%  75%   \n",
       "sentiment_category                                                           \n",
       "negative                       5.0 -1.800000  1.303840 -4.0 -2.0 -1.0 -1.0   \n",
       "neutral                        6.0  0.000000  0.000000  0.0  0.0  0.0  0.0   \n",
       "positive                     173.0  5.710983  2.729628  1.0  4.0  6.0  8.0   \n",
       "\n",
       "                          \n",
       "                     max  \n",
       "sentiment_category        \n",
       "negative            -1.0  \n",
       "neutral              0.0  \n",
       "positive            16.0  "
      ]
     },
     "execution_count": 69,
     "metadata": {},
     "output_type": "execute_result"
    }
   ],
   "source": [
    "df.groupby(by=['sentiment_category']).describe()"
   ]
  },
  {
   "cell_type": "code",
   "execution_count": 71,
   "metadata": {},
   "outputs": [
    {
     "name": "stdout",
     "output_type": "stream",
     "text": [
      "Most Negative  News Article: Gold Holds Gain as Investors Look to Stimulus, Weakening Dollar\n",
      "Gold Up, Investors Book Profits in Wake of Stimulus Hopes-Induced Price Rise\n",
      "Gold Price Prediction – Prices Rise in Tight Range as Momentum Turns Positive\n",
      "\n",
      "Most Positive  News Article: The Last Trading Day of the First Half of 2021 Concludes, and Gold Incurs Losses\n",
      "Global shares fall on pandemic fears ahead of U.S. jobs report\n",
      "Gold Records Worst Monthly Loss in Five Years on Fed ‘Taper-Tantrum’\n"
     ]
    }
   ],
   "source": [
    "pos_idx = df[(df.sentiment_category=='negative') & (df.sentiment_score == -4)].index[0]\n",
    "neg_idx = df[(df.sentiment_category=='positive') & (df.sentiment_score == 16)].index[0]\n",
    "\n",
    "print('Most Negative  News Article:', news_titles_df.iloc[neg_idx][['text']][0])\n",
    "print()\n",
    "print('Most Positive  News Article:', news_titles_df.iloc[pos_idx][['text']][0])"
   ]
  },
  {
   "cell_type": "code",
   "execution_count": null,
   "metadata": {},
   "outputs": [],
   "source": []
  }
 ],
 "metadata": {
  "kernelspec": {
   "display_name": "Python 3",
   "language": "python",
   "name": "python3"
  },
  "language_info": {
   "codemirror_mode": {
    "name": "ipython",
    "version": 3
   },
   "file_extension": ".py",
   "mimetype": "text/x-python",
   "name": "python",
   "nbconvert_exporter": "python",
   "pygments_lexer": "ipython3",
   "version": "3.7.1"
  }
 },
 "nbformat": 4,
 "nbformat_minor": 2
}
